{
 "cells": [
  {
   "cell_type": "code",
   "execution_count": 1,
   "id": "f1be390f",
   "metadata": {},
   "outputs": [],
   "source": [
    "import pandas as pd\n",
    "import numpy as np\n",
    "import matplotlib.pyplot as plt\n",
    "import seaborn as sns"
   ]
  },
  {
   "cell_type": "code",
   "execution_count": 6,
   "id": "8c2046f4",
   "metadata": {},
   "outputs": [
    {
     "data": {
      "text/html": [
       "<div>\n",
       "<style scoped>\n",
       "    .dataframe tbody tr th:only-of-type {\n",
       "        vertical-align: middle;\n",
       "    }\n",
       "\n",
       "    .dataframe tbody tr th {\n",
       "        vertical-align: top;\n",
       "    }\n",
       "\n",
       "    .dataframe thead th {\n",
       "        text-align: right;\n",
       "    }\n",
       "</style>\n",
       "<table border=\"1\" class=\"dataframe\">\n",
       "  <thead>\n",
       "    <tr style=\"text-align: right;\">\n",
       "      <th></th>\n",
       "      <th>Timestamp</th>\n",
       "      <th>Age</th>\n",
       "      <th>Primary streaming service</th>\n",
       "      <th>Hours per day</th>\n",
       "      <th>While working</th>\n",
       "      <th>Instrumentalist</th>\n",
       "      <th>Composer</th>\n",
       "      <th>Fav genre</th>\n",
       "      <th>Exploratory</th>\n",
       "      <th>Foreign languages</th>\n",
       "      <th>...</th>\n",
       "      <th>Frequency [R&amp;B]</th>\n",
       "      <th>Frequency [Rap]</th>\n",
       "      <th>Frequency [Rock]</th>\n",
       "      <th>Frequency [Video game music]</th>\n",
       "      <th>Anxiety</th>\n",
       "      <th>Depression</th>\n",
       "      <th>Insomnia</th>\n",
       "      <th>OCD</th>\n",
       "      <th>Music effects</th>\n",
       "      <th>Permissions</th>\n",
       "    </tr>\n",
       "  </thead>\n",
       "  <tbody>\n",
       "    <tr>\n",
       "      <th>0</th>\n",
       "      <td>8/27/2022 19:29:02</td>\n",
       "      <td>18.0</td>\n",
       "      <td>Spotify</td>\n",
       "      <td>3.0</td>\n",
       "      <td>Yes</td>\n",
       "      <td>Yes</td>\n",
       "      <td>Yes</td>\n",
       "      <td>Latin</td>\n",
       "      <td>Yes</td>\n",
       "      <td>Yes</td>\n",
       "      <td>...</td>\n",
       "      <td>Sometimes</td>\n",
       "      <td>Very frequently</td>\n",
       "      <td>Never</td>\n",
       "      <td>Sometimes</td>\n",
       "      <td>3.0</td>\n",
       "      <td>0.0</td>\n",
       "      <td>1.0</td>\n",
       "      <td>0.0</td>\n",
       "      <td>NaN</td>\n",
       "      <td>I understand.</td>\n",
       "    </tr>\n",
       "    <tr>\n",
       "      <th>1</th>\n",
       "      <td>8/27/2022 19:57:31</td>\n",
       "      <td>63.0</td>\n",
       "      <td>Pandora</td>\n",
       "      <td>1.5</td>\n",
       "      <td>Yes</td>\n",
       "      <td>No</td>\n",
       "      <td>No</td>\n",
       "      <td>Rock</td>\n",
       "      <td>Yes</td>\n",
       "      <td>No</td>\n",
       "      <td>...</td>\n",
       "      <td>Sometimes</td>\n",
       "      <td>Rarely</td>\n",
       "      <td>Very frequently</td>\n",
       "      <td>Rarely</td>\n",
       "      <td>7.0</td>\n",
       "      <td>2.0</td>\n",
       "      <td>2.0</td>\n",
       "      <td>1.0</td>\n",
       "      <td>NaN</td>\n",
       "      <td>I understand.</td>\n",
       "    </tr>\n",
       "    <tr>\n",
       "      <th>2</th>\n",
       "      <td>8/27/2022 21:28:18</td>\n",
       "      <td>18.0</td>\n",
       "      <td>Spotify</td>\n",
       "      <td>4.0</td>\n",
       "      <td>No</td>\n",
       "      <td>No</td>\n",
       "      <td>No</td>\n",
       "      <td>Video game music</td>\n",
       "      <td>No</td>\n",
       "      <td>Yes</td>\n",
       "      <td>...</td>\n",
       "      <td>Never</td>\n",
       "      <td>Rarely</td>\n",
       "      <td>Rarely</td>\n",
       "      <td>Very frequently</td>\n",
       "      <td>7.0</td>\n",
       "      <td>7.0</td>\n",
       "      <td>10.0</td>\n",
       "      <td>2.0</td>\n",
       "      <td>No effect</td>\n",
       "      <td>I understand.</td>\n",
       "    </tr>\n",
       "    <tr>\n",
       "      <th>3</th>\n",
       "      <td>8/27/2022 21:40:40</td>\n",
       "      <td>61.0</td>\n",
       "      <td>YouTube Music</td>\n",
       "      <td>2.5</td>\n",
       "      <td>Yes</td>\n",
       "      <td>No</td>\n",
       "      <td>Yes</td>\n",
       "      <td>Jazz</td>\n",
       "      <td>Yes</td>\n",
       "      <td>Yes</td>\n",
       "      <td>...</td>\n",
       "      <td>Sometimes</td>\n",
       "      <td>Never</td>\n",
       "      <td>Never</td>\n",
       "      <td>Never</td>\n",
       "      <td>9.0</td>\n",
       "      <td>7.0</td>\n",
       "      <td>3.0</td>\n",
       "      <td>3.0</td>\n",
       "      <td>Improve</td>\n",
       "      <td>I understand.</td>\n",
       "    </tr>\n",
       "    <tr>\n",
       "      <th>4</th>\n",
       "      <td>8/27/2022 21:54:47</td>\n",
       "      <td>18.0</td>\n",
       "      <td>Spotify</td>\n",
       "      <td>4.0</td>\n",
       "      <td>Yes</td>\n",
       "      <td>No</td>\n",
       "      <td>No</td>\n",
       "      <td>R&amp;B</td>\n",
       "      <td>Yes</td>\n",
       "      <td>No</td>\n",
       "      <td>...</td>\n",
       "      <td>Very frequently</td>\n",
       "      <td>Very frequently</td>\n",
       "      <td>Never</td>\n",
       "      <td>Rarely</td>\n",
       "      <td>7.0</td>\n",
       "      <td>2.0</td>\n",
       "      <td>5.0</td>\n",
       "      <td>9.0</td>\n",
       "      <td>Improve</td>\n",
       "      <td>I understand.</td>\n",
       "    </tr>\n",
       "    <tr>\n",
       "      <th>...</th>\n",
       "      <td>...</td>\n",
       "      <td>...</td>\n",
       "      <td>...</td>\n",
       "      <td>...</td>\n",
       "      <td>...</td>\n",
       "      <td>...</td>\n",
       "      <td>...</td>\n",
       "      <td>...</td>\n",
       "      <td>...</td>\n",
       "      <td>...</td>\n",
       "      <td>...</td>\n",
       "      <td>...</td>\n",
       "      <td>...</td>\n",
       "      <td>...</td>\n",
       "      <td>...</td>\n",
       "      <td>...</td>\n",
       "      <td>...</td>\n",
       "      <td>...</td>\n",
       "      <td>...</td>\n",
       "      <td>...</td>\n",
       "      <td>...</td>\n",
       "    </tr>\n",
       "    <tr>\n",
       "      <th>731</th>\n",
       "      <td>10/30/2022 14:37:28</td>\n",
       "      <td>17.0</td>\n",
       "      <td>Spotify</td>\n",
       "      <td>2.0</td>\n",
       "      <td>Yes</td>\n",
       "      <td>Yes</td>\n",
       "      <td>No</td>\n",
       "      <td>Rock</td>\n",
       "      <td>Yes</td>\n",
       "      <td>Yes</td>\n",
       "      <td>...</td>\n",
       "      <td>Never</td>\n",
       "      <td>Rarely</td>\n",
       "      <td>Very frequently</td>\n",
       "      <td>Never</td>\n",
       "      <td>7.0</td>\n",
       "      <td>6.0</td>\n",
       "      <td>0.0</td>\n",
       "      <td>9.0</td>\n",
       "      <td>Improve</td>\n",
       "      <td>I understand.</td>\n",
       "    </tr>\n",
       "    <tr>\n",
       "      <th>732</th>\n",
       "      <td>11/1/2022 22:26:42</td>\n",
       "      <td>18.0</td>\n",
       "      <td>Spotify</td>\n",
       "      <td>1.0</td>\n",
       "      <td>Yes</td>\n",
       "      <td>Yes</td>\n",
       "      <td>No</td>\n",
       "      <td>Pop</td>\n",
       "      <td>Yes</td>\n",
       "      <td>Yes</td>\n",
       "      <td>...</td>\n",
       "      <td>Never</td>\n",
       "      <td>Never</td>\n",
       "      <td>Sometimes</td>\n",
       "      <td>Sometimes</td>\n",
       "      <td>3.0</td>\n",
       "      <td>2.0</td>\n",
       "      <td>2.0</td>\n",
       "      <td>5.0</td>\n",
       "      <td>Improve</td>\n",
       "      <td>I understand.</td>\n",
       "    </tr>\n",
       "    <tr>\n",
       "      <th>733</th>\n",
       "      <td>11/3/2022 23:24:38</td>\n",
       "      <td>19.0</td>\n",
       "      <td>Other streaming service</td>\n",
       "      <td>6.0</td>\n",
       "      <td>Yes</td>\n",
       "      <td>No</td>\n",
       "      <td>Yes</td>\n",
       "      <td>Rap</td>\n",
       "      <td>Yes</td>\n",
       "      <td>No</td>\n",
       "      <td>...</td>\n",
       "      <td>Sometimes</td>\n",
       "      <td>Sometimes</td>\n",
       "      <td>Rarely</td>\n",
       "      <td>Rarely</td>\n",
       "      <td>2.0</td>\n",
       "      <td>2.0</td>\n",
       "      <td>2.0</td>\n",
       "      <td>2.0</td>\n",
       "      <td>Improve</td>\n",
       "      <td>I understand.</td>\n",
       "    </tr>\n",
       "    <tr>\n",
       "      <th>734</th>\n",
       "      <td>11/4/2022 17:31:47</td>\n",
       "      <td>19.0</td>\n",
       "      <td>Spotify</td>\n",
       "      <td>5.0</td>\n",
       "      <td>Yes</td>\n",
       "      <td>Yes</td>\n",
       "      <td>No</td>\n",
       "      <td>Classical</td>\n",
       "      <td>No</td>\n",
       "      <td>No</td>\n",
       "      <td>...</td>\n",
       "      <td>Never</td>\n",
       "      <td>Never</td>\n",
       "      <td>Never</td>\n",
       "      <td>Sometimes</td>\n",
       "      <td>2.0</td>\n",
       "      <td>3.0</td>\n",
       "      <td>2.0</td>\n",
       "      <td>1.0</td>\n",
       "      <td>Improve</td>\n",
       "      <td>I understand.</td>\n",
       "    </tr>\n",
       "    <tr>\n",
       "      <th>735</th>\n",
       "      <td>11/9/2022 1:55:20</td>\n",
       "      <td>29.0</td>\n",
       "      <td>YouTube Music</td>\n",
       "      <td>2.0</td>\n",
       "      <td>Yes</td>\n",
       "      <td>No</td>\n",
       "      <td>No</td>\n",
       "      <td>Hip hop</td>\n",
       "      <td>Yes</td>\n",
       "      <td>Yes</td>\n",
       "      <td>...</td>\n",
       "      <td>Very frequently</td>\n",
       "      <td>Very frequently</td>\n",
       "      <td>Very frequently</td>\n",
       "      <td>Rarely</td>\n",
       "      <td>2.0</td>\n",
       "      <td>2.0</td>\n",
       "      <td>2.0</td>\n",
       "      <td>5.0</td>\n",
       "      <td>Improve</td>\n",
       "      <td>I understand.</td>\n",
       "    </tr>\n",
       "  </tbody>\n",
       "</table>\n",
       "<p>736 rows × 33 columns</p>\n",
       "</div>"
      ],
      "text/plain": [
       "               Timestamp   Age Primary streaming service  Hours per day  \\\n",
       "0     8/27/2022 19:29:02  18.0                   Spotify            3.0   \n",
       "1     8/27/2022 19:57:31  63.0                   Pandora            1.5   \n",
       "2     8/27/2022 21:28:18  18.0                   Spotify            4.0   \n",
       "3     8/27/2022 21:40:40  61.0             YouTube Music            2.5   \n",
       "4     8/27/2022 21:54:47  18.0                   Spotify            4.0   \n",
       "..                   ...   ...                       ...            ...   \n",
       "731  10/30/2022 14:37:28  17.0                   Spotify            2.0   \n",
       "732   11/1/2022 22:26:42  18.0                   Spotify            1.0   \n",
       "733   11/3/2022 23:24:38  19.0   Other streaming service            6.0   \n",
       "734   11/4/2022 17:31:47  19.0                   Spotify            5.0   \n",
       "735    11/9/2022 1:55:20  29.0             YouTube Music            2.0   \n",
       "\n",
       "    While working Instrumentalist Composer         Fav genre Exploratory  \\\n",
       "0             Yes             Yes      Yes             Latin         Yes   \n",
       "1             Yes              No       No              Rock         Yes   \n",
       "2              No              No       No  Video game music          No   \n",
       "3             Yes              No      Yes              Jazz         Yes   \n",
       "4             Yes              No       No               R&B         Yes   \n",
       "..            ...             ...      ...               ...         ...   \n",
       "731           Yes             Yes       No              Rock         Yes   \n",
       "732           Yes             Yes       No               Pop         Yes   \n",
       "733           Yes              No      Yes               Rap         Yes   \n",
       "734           Yes             Yes       No         Classical          No   \n",
       "735           Yes              No       No           Hip hop         Yes   \n",
       "\n",
       "    Foreign languages  ...  Frequency [R&B]  Frequency [Rap] Frequency [Rock]  \\\n",
       "0                 Yes  ...        Sometimes  Very frequently            Never   \n",
       "1                  No  ...        Sometimes           Rarely  Very frequently   \n",
       "2                 Yes  ...            Never           Rarely           Rarely   \n",
       "3                 Yes  ...        Sometimes            Never            Never   \n",
       "4                  No  ...  Very frequently  Very frequently            Never   \n",
       "..                ...  ...              ...              ...              ...   \n",
       "731               Yes  ...            Never           Rarely  Very frequently   \n",
       "732               Yes  ...            Never            Never        Sometimes   \n",
       "733                No  ...        Sometimes        Sometimes           Rarely   \n",
       "734                No  ...            Never            Never            Never   \n",
       "735               Yes  ...  Very frequently  Very frequently  Very frequently   \n",
       "\n",
       "    Frequency [Video game music] Anxiety Depression Insomnia  OCD  \\\n",
       "0                      Sometimes     3.0        0.0      1.0  0.0   \n",
       "1                         Rarely     7.0        2.0      2.0  1.0   \n",
       "2                Very frequently     7.0        7.0     10.0  2.0   \n",
       "3                          Never     9.0        7.0      3.0  3.0   \n",
       "4                         Rarely     7.0        2.0      5.0  9.0   \n",
       "..                           ...     ...        ...      ...  ...   \n",
       "731                        Never     7.0        6.0      0.0  9.0   \n",
       "732                    Sometimes     3.0        2.0      2.0  5.0   \n",
       "733                       Rarely     2.0        2.0      2.0  2.0   \n",
       "734                    Sometimes     2.0        3.0      2.0  1.0   \n",
       "735                       Rarely     2.0        2.0      2.0  5.0   \n",
       "\n",
       "    Music effects    Permissions  \n",
       "0             NaN  I understand.  \n",
       "1             NaN  I understand.  \n",
       "2       No effect  I understand.  \n",
       "3         Improve  I understand.  \n",
       "4         Improve  I understand.  \n",
       "..            ...            ...  \n",
       "731       Improve  I understand.  \n",
       "732       Improve  I understand.  \n",
       "733       Improve  I understand.  \n",
       "734       Improve  I understand.  \n",
       "735       Improve  I understand.  \n",
       "\n",
       "[736 rows x 33 columns]"
      ]
     },
     "execution_count": 6,
     "metadata": {},
     "output_type": "execute_result"
    }
   ],
   "source": [
    "data = pd.read_csv('../data/mxmh_survey_results.csv')\n",
    "data"
   ]
  },
  {
   "cell_type": "code",
   "execution_count": 7,
   "id": "4d5c9f0c",
   "metadata": {},
   "outputs": [
    {
     "data": {
      "text/plain": [
       "Index(['Timestamp', 'Age', 'Primary streaming service', 'Hours per day',\n",
       "       'While working', 'Instrumentalist', 'Composer', 'Fav genre',\n",
       "       'Exploratory', 'Foreign languages', 'BPM', 'Frequency [Classical]',\n",
       "       'Frequency [Country]', 'Frequency [EDM]', 'Frequency [Folk]',\n",
       "       'Frequency [Gospel]', 'Frequency [Hip hop]', 'Frequency [Jazz]',\n",
       "       'Frequency [K pop]', 'Frequency [Latin]', 'Frequency [Lofi]',\n",
       "       'Frequency [Metal]', 'Frequency [Pop]', 'Frequency [R&B]',\n",
       "       'Frequency [Rap]', 'Frequency [Rock]', 'Frequency [Video game music]',\n",
       "       'Anxiety', 'Depression', 'Insomnia', 'OCD', 'Music effects',\n",
       "       'Permissions'],\n",
       "      dtype='object')"
      ]
     },
     "execution_count": 7,
     "metadata": {},
     "output_type": "execute_result"
    }
   ],
   "source": [
    "data.columns"
   ]
  },
  {
   "cell_type": "code",
   "execution_count": 8,
   "id": "193c5742",
   "metadata": {},
   "outputs": [
    {
     "data": {
      "text/plain": [
       "Timestamp                        object\n",
       "Age                             float64\n",
       "Primary streaming service        object\n",
       "Hours per day                   float64\n",
       "While working                    object\n",
       "Instrumentalist                  object\n",
       "Composer                         object\n",
       "Fav genre                        object\n",
       "Exploratory                      object\n",
       "Foreign languages                object\n",
       "BPM                             float64\n",
       "Frequency [Classical]            object\n",
       "Frequency [Country]              object\n",
       "Frequency [EDM]                  object\n",
       "Frequency [Folk]                 object\n",
       "Frequency [Gospel]               object\n",
       "Frequency [Hip hop]              object\n",
       "Frequency [Jazz]                 object\n",
       "Frequency [K pop]                object\n",
       "Frequency [Latin]                object\n",
       "Frequency [Lofi]                 object\n",
       "Frequency [Metal]                object\n",
       "Frequency [Pop]                  object\n",
       "Frequency [R&B]                  object\n",
       "Frequency [Rap]                  object\n",
       "Frequency [Rock]                 object\n",
       "Frequency [Video game music]     object\n",
       "Anxiety                         float64\n",
       "Depression                      float64\n",
       "Insomnia                        float64\n",
       "OCD                             float64\n",
       "Music effects                    object\n",
       "Permissions                      object\n",
       "dtype: object"
      ]
     },
     "execution_count": 8,
     "metadata": {},
     "output_type": "execute_result"
    }
   ],
   "source": [
    "data.dtypes"
   ]
  },
  {
   "cell_type": "code",
   "execution_count": 16,
   "id": "19322271",
   "metadata": {},
   "outputs": [
    {
     "data": {
      "text/plain": [
       "(array(['Spotify', 'Pandora', 'YouTube Music',\n",
       "        'I do not use a streaming service.', 'Apple Music',\n",
       "        'Other streaming service', nan], dtype=object),\n",
       " 1)"
      ]
     },
     "execution_count": 16,
     "metadata": {},
     "output_type": "execute_result"
    }
   ],
   "source": [
    "data['Primary streaming service'].unique(), len(data[data['Primary streaming service'].isna()])"
   ]
  },
  {
   "cell_type": "code",
   "execution_count": 17,
   "id": "ad3649d5",
   "metadata": {},
   "outputs": [
    {
     "data": {
      "text/plain": [
       "2.00     173\n",
       "3.00     120\n",
       "1.00     117\n",
       "4.00      83\n",
       "5.00      54\n",
       "6.00      47\n",
       "8.00      29\n",
       "10.00     20\n",
       "0.50      20\n",
       "1.50      17\n",
       "7.00      15\n",
       "12.00      9\n",
       "0.00       6\n",
       "2.50       6\n",
       "0.25       3\n",
       "24.00      3\n",
       "9.00       3\n",
       "15.00      2\n",
       "0.70       1\n",
       "4.50       1\n",
       "20.00      1\n",
       "16.00      1\n",
       "14.00      1\n",
       "13.00      1\n",
       "0.10       1\n",
       "11.00      1\n",
       "18.00      1\n",
       "Name: Hours per day, dtype: int64"
      ]
     },
     "execution_count": 17,
     "metadata": {},
     "output_type": "execute_result"
    }
   ],
   "source": [
    "data['Hours per day'].value_counts()"
   ]
  },
  {
   "cell_type": "code",
   "execution_count": 21,
   "id": "8e50ff7d",
   "metadata": {},
   "outputs": [
    {
     "data": {
      "text/plain": [
       "(array(['Yes', 'No', nan], dtype=object), 3)"
      ]
     },
     "execution_count": 21,
     "metadata": {},
     "output_type": "execute_result"
    }
   ],
   "source": [
    "data['While working'].unique(), len(data[data['While working'].isna()])"
   ]
  },
  {
   "cell_type": "code",
   "execution_count": 24,
   "id": "0ea45255",
   "metadata": {},
   "outputs": [
    {
     "data": {
      "text/plain": [
       "Yes    579\n",
       "No     154\n",
       "Name: While working, dtype: int64"
      ]
     },
     "execution_count": 24,
     "metadata": {},
     "output_type": "execute_result"
    }
   ],
   "source": [
    "data['While working'].value_counts()"
   ]
  },
  {
   "cell_type": "code",
   "execution_count": 22,
   "id": "11ffd62b",
   "metadata": {},
   "outputs": [
    {
     "data": {
      "text/plain": [
       "(array(['Yes', 'No', nan], dtype=object), 4)"
      ]
     },
     "execution_count": 22,
     "metadata": {},
     "output_type": "execute_result"
    }
   ],
   "source": [
    "data['Instrumentalist'].unique(), len(data[data['Instrumentalist'].isna()])"
   ]
  },
  {
   "cell_type": "code",
   "execution_count": 25,
   "id": "049e0cfc",
   "metadata": {},
   "outputs": [
    {
     "data": {
      "text/plain": [
       "No     497\n",
       "Yes    235\n",
       "Name: Instrumentalist, dtype: int64"
      ]
     },
     "execution_count": 25,
     "metadata": {},
     "output_type": "execute_result"
    }
   ],
   "source": [
    "data['Instrumentalist'].value_counts()"
   ]
  },
  {
   "cell_type": "code",
   "execution_count": 23,
   "id": "94d80eb2",
   "metadata": {},
   "outputs": [
    {
     "data": {
      "text/plain": [
       "(array(['Yes', 'No', nan], dtype=object), 1)"
      ]
     },
     "execution_count": 23,
     "metadata": {},
     "output_type": "execute_result"
    }
   ],
   "source": [
    "data['Composer'].unique(), len(data[data['Composer'].isna()])"
   ]
  },
  {
   "cell_type": "code",
   "execution_count": 26,
   "id": "47d74752",
   "metadata": {},
   "outputs": [
    {
     "data": {
      "text/plain": [
       "No     609\n",
       "Yes    126\n",
       "Name: Composer, dtype: int64"
      ]
     },
     "execution_count": 26,
     "metadata": {},
     "output_type": "execute_result"
    }
   ],
   "source": [
    "data['Composer'].value_counts()"
   ]
  },
  {
   "cell_type": "code",
   "execution_count": 27,
   "id": "fe26b20d",
   "metadata": {},
   "outputs": [
    {
     "data": {
      "text/plain": [
       "(array(['Latin', 'Rock', 'Video game music', 'Jazz', 'R&B', 'K pop',\n",
       "        'Country', 'EDM', 'Hip hop', 'Pop', 'Rap', 'Classical', 'Metal',\n",
       "        'Folk', 'Lofi', 'Gospel'], dtype=object),\n",
       " 0)"
      ]
     },
     "execution_count": 27,
     "metadata": {},
     "output_type": "execute_result"
    }
   ],
   "source": [
    "data['Fav genre'].unique(), len(data[data['Fav genre'].isna()])"
   ]
  },
  {
   "cell_type": "code",
   "execution_count": 28,
   "id": "68bf4c74",
   "metadata": {},
   "outputs": [
    {
     "data": {
      "text/plain": [
       "Rock                188\n",
       "Pop                 114\n",
       "Metal                88\n",
       "Classical            53\n",
       "Video game music     44\n",
       "EDM                  37\n",
       "R&B                  35\n",
       "Hip hop              35\n",
       "Folk                 30\n",
       "K pop                26\n",
       "Country              25\n",
       "Rap                  22\n",
       "Jazz                 20\n",
       "Lofi                 10\n",
       "Gospel                6\n",
       "Latin                 3\n",
       "Name: Fav genre, dtype: int64"
      ]
     },
     "execution_count": 28,
     "metadata": {},
     "output_type": "execute_result"
    }
   ],
   "source": [
    "data['Fav genre'].value_counts()"
   ]
  },
  {
   "cell_type": "code",
   "execution_count": 29,
   "id": "8a3e762f",
   "metadata": {},
   "outputs": [
    {
     "data": {
      "text/plain": [
       "(array(['Yes', 'No'], dtype=object), 0)"
      ]
     },
     "execution_count": 29,
     "metadata": {},
     "output_type": "execute_result"
    }
   ],
   "source": [
    "data['Exploratory'].unique(), len(data[data['Exploratory'].isna()])"
   ]
  },
  {
   "cell_type": "code",
   "execution_count": 30,
   "id": "513e842e",
   "metadata": {},
   "outputs": [
    {
     "data": {
      "text/plain": [
       "Yes    525\n",
       "No     211\n",
       "Name: Exploratory, dtype: int64"
      ]
     },
     "execution_count": 30,
     "metadata": {},
     "output_type": "execute_result"
    }
   ],
   "source": [
    "data['Exploratory'].value_counts()"
   ]
  },
  {
   "cell_type": "code",
   "execution_count": 33,
   "id": "f4f06495",
   "metadata": {},
   "outputs": [
    {
     "data": {
      "text/plain": [
       "(array(['Yes', 'No', nan], dtype=object), 4)"
      ]
     },
     "execution_count": 33,
     "metadata": {},
     "output_type": "execute_result"
    }
   ],
   "source": [
    "data['Foreign languages'].unique(), len(data[data['Foreign languages'].isna()])"
   ]
  },
  {
   "cell_type": "code",
   "execution_count": 34,
   "id": "5cbdcc71",
   "metadata": {},
   "outputs": [
    {
     "data": {
      "text/plain": [
       "Yes    404\n",
       "No     328\n",
       "Name: Foreign languages, dtype: int64"
      ]
     },
     "execution_count": 34,
     "metadata": {},
     "output_type": "execute_result"
    }
   ],
   "source": [
    "data['Foreign languages'].value_counts()"
   ]
  },
  {
   "cell_type": "code",
   "execution_count": 35,
   "id": "c1ab32d4",
   "metadata": {},
   "outputs": [
    {
     "data": {
      "text/plain": [
       "(array([1.56000000e+02, 1.19000000e+02, 1.32000000e+02, 8.40000000e+01,\n",
       "        1.07000000e+02, 8.60000000e+01, 6.60000000e+01, 9.50000000e+01,\n",
       "        9.40000000e+01, 1.55000000e+02,            nan, 1.25000000e+02,\n",
       "        8.80000000e+01, 1.48000000e+02, 1.03000000e+02, 1.20000000e+02,\n",
       "        9.90000000e+01, 1.18000000e+02, 7.90000000e+01, 1.69000000e+02,\n",
       "        1.36000000e+02, 1.01000000e+02, 1.26000000e+02, 1.83000000e+02,\n",
       "        1.42000000e+02, 7.50000000e+01, 8.90000000e+01, 1.40000000e+02,\n",
       "        1.61000000e+02, 8.00000000e+01, 1.30000000e+02, 1.47000000e+02,\n",
       "        7.70000000e+01, 1.15000000e+02, 1.57000000e+02, 9.00000000e+01,\n",
       "        1.28000000e+02, 9.60000000e+01, 9.10000000e+01, 5.50000000e+01,\n",
       "        8.50000000e+01, 1.60000000e+02, 1.08000000e+02, 1.70000000e+02,\n",
       "        1.74000000e+02, 1.27000000e+02, 1.65000000e+02, 1.13000000e+02,\n",
       "        1.67000000e+02, 1.10000000e+02, 1.50000000e+02, 9.30000000e+01,\n",
       "        1.09000000e+02, 1.75000000e+02, 1.62000000e+02, 1.89000000e+02,\n",
       "        1.21000000e+02, 2.00000000e+02, 1.05000000e+02, 1.93000000e+02,\n",
       "        1.49000000e+02, 1.34000000e+02, 1.00000000e+02, 9.80000000e+01,\n",
       "        7.80000000e+01, 1.17000000e+02, 1.22000000e+02, 1.79000000e+02,\n",
       "        1.66000000e+02, 1.44000000e+02, 6.10000000e+01, 1.85000000e+02,\n",
       "        9.20000000e+01, 1.94000000e+02, 6.00000000e+01, 1.90000000e+02,\n",
       "        8.70000000e+01, 1.71000000e+02, 1.14000000e+02, 1.41000000e+02,\n",
       "        1.46000000e+02, 1.64000000e+02, 1.45000000e+02, 1.12000000e+02,\n",
       "        1.11000000e+02, 1.72000000e+02, 1.80000000e+02, 7.60000000e+01,\n",
       "        1.29000000e+02, 8.10000000e+01, 5.20000000e+01, 9.70000000e+01,\n",
       "        1.43000000e+02, 1.58000000e+02, 1.04000000e+02, 1.35000000e+02,\n",
       "        2.20000000e+02, 1.38000000e+02, 1.39000000e+02, 1.78000000e+02,\n",
       "        6.20000000e+01, 7.20000000e+01, 0.00000000e+00, 2.08000000e+02,\n",
       "        2.00000000e+01, 1.24000000e+02, 1.81000000e+02, 1.06000000e+02,\n",
       "        1.91000000e+02, 4.00000000e+01, 1.73000000e+02, 1.23000000e+02,\n",
       "        4.00000000e+00, 7.30000000e+01, 1.37000000e+02, 1.33000000e+02,\n",
       "        1.02000000e+02, 8.20000000e+01, 1.16000000e+02, 1.31000000e+02,\n",
       "        2.04000000e+02, 1.59000000e+02, 7.00000000e+01, 2.10000000e+02,\n",
       "        8.00000000e+00, 9.99999999e+08, 1.53000000e+02, 1.92000000e+02,\n",
       "        5.60000000e+01, 6.30000000e+01, 6.80000000e+01, 6.24000000e+02,\n",
       "        2.18000000e+02, 1.86000000e+02, 1.63000000e+02, 1.68000000e+02]),\n",
       " 107)"
      ]
     },
     "execution_count": 35,
     "metadata": {},
     "output_type": "execute_result"
    }
   ],
   "source": [
    "data['BPM'].unique(), len(data[data['BPM'].isna()])"
   ]
  },
  {
   "cell_type": "code",
   "execution_count": 78,
   "id": "cf7e9896",
   "metadata": {},
   "outputs": [
    {
     "data": {
      "text/html": [
       "<div>\n",
       "<style scoped>\n",
       "    .dataframe tbody tr th:only-of-type {\n",
       "        vertical-align: middle;\n",
       "    }\n",
       "\n",
       "    .dataframe tbody tr th {\n",
       "        vertical-align: top;\n",
       "    }\n",
       "\n",
       "    .dataframe thead th {\n",
       "        text-align: right;\n",
       "    }\n",
       "</style>\n",
       "<table border=\"1\" class=\"dataframe\">\n",
       "  <thead>\n",
       "    <tr style=\"text-align: right;\">\n",
       "      <th></th>\n",
       "      <th>Never</th>\n",
       "      <th>Sometimes</th>\n",
       "      <th>Very frequently</th>\n",
       "      <th>Rarely</th>\n",
       "    </tr>\n",
       "  </thead>\n",
       "  <tbody>\n",
       "    <tr>\n",
       "      <th>Frequency [Country]</th>\n",
       "      <td>343</td>\n",
       "      <td>111</td>\n",
       "      <td>49</td>\n",
       "      <td>233</td>\n",
       "    </tr>\n",
       "    <tr>\n",
       "      <th>Frequency [EDM]</th>\n",
       "      <td>307</td>\n",
       "      <td>146</td>\n",
       "      <td>89</td>\n",
       "      <td>194</td>\n",
       "    </tr>\n",
       "    <tr>\n",
       "      <th>Frequency [Folk]</th>\n",
       "      <td>292</td>\n",
       "      <td>145</td>\n",
       "      <td>78</td>\n",
       "      <td>221</td>\n",
       "    </tr>\n",
       "    <tr>\n",
       "      <th>Frequency [Gospel]</th>\n",
       "      <td>535</td>\n",
       "      <td>52</td>\n",
       "      <td>14</td>\n",
       "      <td>135</td>\n",
       "    </tr>\n",
       "    <tr>\n",
       "      <th>Frequency [Hip hop]</th>\n",
       "      <td>181</td>\n",
       "      <td>218</td>\n",
       "      <td>123</td>\n",
       "      <td>214</td>\n",
       "    </tr>\n",
       "    <tr>\n",
       "      <th>Frequency [Jazz]</th>\n",
       "      <td>261</td>\n",
       "      <td>175</td>\n",
       "      <td>53</td>\n",
       "      <td>247</td>\n",
       "    </tr>\n",
       "    <tr>\n",
       "      <th>Frequency [K pop]</th>\n",
       "      <td>416</td>\n",
       "      <td>67</td>\n",
       "      <td>77</td>\n",
       "      <td>176</td>\n",
       "    </tr>\n",
       "    <tr>\n",
       "      <th>Frequency [Latin]</th>\n",
       "      <td>443</td>\n",
       "      <td>88</td>\n",
       "      <td>33</td>\n",
       "      <td>172</td>\n",
       "    </tr>\n",
       "    <tr>\n",
       "      <th>Frequency [Lofi]</th>\n",
       "      <td>280</td>\n",
       "      <td>160</td>\n",
       "      <td>85</td>\n",
       "      <td>211</td>\n",
       "    </tr>\n",
       "    <tr>\n",
       "      <th>Frequency [Metal]</th>\n",
       "      <td>264</td>\n",
       "      <td>134</td>\n",
       "      <td>146</td>\n",
       "      <td>192</td>\n",
       "    </tr>\n",
       "    <tr>\n",
       "      <th>Frequency [Pop]</th>\n",
       "      <td>56</td>\n",
       "      <td>261</td>\n",
       "      <td>277</td>\n",
       "      <td>142</td>\n",
       "    </tr>\n",
       "    <tr>\n",
       "      <th>Frequency [R&amp;B]</th>\n",
       "      <td>225</td>\n",
       "      <td>184</td>\n",
       "      <td>116</td>\n",
       "      <td>211</td>\n",
       "    </tr>\n",
       "    <tr>\n",
       "      <th>Frequency [Rap]</th>\n",
       "      <td>200</td>\n",
       "      <td>195</td>\n",
       "      <td>126</td>\n",
       "      <td>215</td>\n",
       "    </tr>\n",
       "    <tr>\n",
       "      <th>Frequency [Rock]</th>\n",
       "      <td>91</td>\n",
       "      <td>219</td>\n",
       "      <td>330</td>\n",
       "      <td>96</td>\n",
       "    </tr>\n",
       "    <tr>\n",
       "      <th>Frequency [Video game music]</th>\n",
       "      <td>236</td>\n",
       "      <td>186</td>\n",
       "      <td>117</td>\n",
       "      <td>197</td>\n",
       "    </tr>\n",
       "  </tbody>\n",
       "</table>\n",
       "</div>"
      ],
      "text/plain": [
       "                              Never  Sometimes  Very frequently  Rarely\n",
       "Frequency [Country]             343        111               49     233\n",
       "Frequency [EDM]                 307        146               89     194\n",
       "Frequency [Folk]                292        145               78     221\n",
       "Frequency [Gospel]              535         52               14     135\n",
       "Frequency [Hip hop]             181        218              123     214\n",
       "Frequency [Jazz]                261        175               53     247\n",
       "Frequency [K pop]               416         67               77     176\n",
       "Frequency [Latin]               443         88               33     172\n",
       "Frequency [Lofi]                280        160               85     211\n",
       "Frequency [Metal]               264        134              146     192\n",
       "Frequency [Pop]                  56        261              277     142\n",
       "Frequency [R&B]                 225        184              116     211\n",
       "Frequency [Rap]                 200        195              126     215\n",
       "Frequency [Rock]                 91        219              330      96\n",
       "Frequency [Video game music]    236        186              117     197"
      ]
     },
     "execution_count": 78,
     "metadata": {},
     "output_type": "execute_result"
    }
   ],
   "source": [
    "genre_list = ['Frequency [Country]', 'Frequency [EDM]', 'Frequency [Folk]',\n",
    "       'Frequency [Gospel]', 'Frequency [Hip hop]', 'Frequency [Jazz]',\n",
    "       'Frequency [K pop]', 'Frequency [Latin]', 'Frequency [Lofi]',\n",
    "       'Frequency [Metal]', 'Frequency [Pop]', 'Frequency [R&B]',\n",
    "       'Frequency [Rap]', 'Frequency [Rock]', 'Frequency [Video game music]']\n",
    "\n",
    "frequency_df = pd.DataFrame()\n",
    "\n",
    "for genre in genre_list:\n",
    "    frequency_df = pd.concat([frequency_df,pd.DataFrame(data[genre].value_counts(sort=False, dropna=False)).T])\n",
    "    \n",
    "frequency_df"
   ]
  },
  {
   "cell_type": "code",
   "execution_count": 87,
   "id": "b83205c1",
   "metadata": {},
   "outputs": [
    {
     "data": {
      "text/html": [
       "<div>\n",
       "<style scoped>\n",
       "    .dataframe tbody tr th:only-of-type {\n",
       "        vertical-align: middle;\n",
       "    }\n",
       "\n",
       "    .dataframe tbody tr th {\n",
       "        vertical-align: top;\n",
       "    }\n",
       "\n",
       "    .dataframe thead th {\n",
       "        text-align: right;\n",
       "    }\n",
       "</style>\n",
       "<table border=\"1\" class=\"dataframe\">\n",
       "  <thead>\n",
       "    <tr style=\"text-align: right;\">\n",
       "      <th></th>\n",
       "      <th>3.0</th>\n",
       "      <th>7.0</th>\n",
       "      <th>9.0</th>\n",
       "      <th>8.0</th>\n",
       "      <th>4.0</th>\n",
       "      <th>5.0</th>\n",
       "      <th>2.0</th>\n",
       "      <th>1.0</th>\n",
       "      <th>6.0</th>\n",
       "      <th>10.0</th>\n",
       "      <th>0.0</th>\n",
       "      <th>7.5</th>\n",
       "      <th>3.5</th>\n",
       "      <th>8.5</th>\n",
       "      <th>5.5</th>\n",
       "    </tr>\n",
       "  </thead>\n",
       "  <tbody>\n",
       "    <tr>\n",
       "      <th>Anxiety</th>\n",
       "      <td>69</td>\n",
       "      <td>122</td>\n",
       "      <td>56</td>\n",
       "      <td>115</td>\n",
       "      <td>56</td>\n",
       "      <td>59</td>\n",
       "      <td>44</td>\n",
       "      <td>29</td>\n",
       "      <td>83</td>\n",
       "      <td>67</td>\n",
       "      <td>35</td>\n",
       "      <td>1.0</td>\n",
       "      <td>NaN</td>\n",
       "      <td>NaN</td>\n",
       "      <td>NaN</td>\n",
       "    </tr>\n",
       "    <tr>\n",
       "      <th>Depression</th>\n",
       "      <td>59</td>\n",
       "      <td>96</td>\n",
       "      <td>38</td>\n",
       "      <td>77</td>\n",
       "      <td>58</td>\n",
       "      <td>56</td>\n",
       "      <td>93</td>\n",
       "      <td>40</td>\n",
       "      <td>88</td>\n",
       "      <td>45</td>\n",
       "      <td>84</td>\n",
       "      <td>NaN</td>\n",
       "      <td>2.0</td>\n",
       "      <td>NaN</td>\n",
       "      <td>NaN</td>\n",
       "    </tr>\n",
       "    <tr>\n",
       "      <th>Insomnia</th>\n",
       "      <td>68</td>\n",
       "      <td>59</td>\n",
       "      <td>27</td>\n",
       "      <td>49</td>\n",
       "      <td>59</td>\n",
       "      <td>58</td>\n",
       "      <td>88</td>\n",
       "      <td>82</td>\n",
       "      <td>62</td>\n",
       "      <td>34</td>\n",
       "      <td>149</td>\n",
       "      <td>NaN</td>\n",
       "      <td>1.0</td>\n",
       "      <td>NaN</td>\n",
       "      <td>NaN</td>\n",
       "    </tr>\n",
       "    <tr>\n",
       "      <th>OCD</th>\n",
       "      <td>64</td>\n",
       "      <td>34</td>\n",
       "      <td>14</td>\n",
       "      <td>28</td>\n",
       "      <td>48</td>\n",
       "      <td>54</td>\n",
       "      <td>96</td>\n",
       "      <td>95</td>\n",
       "      <td>33</td>\n",
       "      <td>20</td>\n",
       "      <td>248</td>\n",
       "      <td>NaN</td>\n",
       "      <td>NaN</td>\n",
       "      <td>1.0</td>\n",
       "      <td>1.0</td>\n",
       "    </tr>\n",
       "  </tbody>\n",
       "</table>\n",
       "</div>"
      ],
      "text/plain": [
       "            3.0   7.0   9.0   8.0   4.0   5.0   2.0   1.0   6.0   10.0  0.0   \\\n",
       "Anxiety       69   122    56   115    56    59    44    29    83    67    35   \n",
       "Depression    59    96    38    77    58    56    93    40    88    45    84   \n",
       "Insomnia      68    59    27    49    59    58    88    82    62    34   149   \n",
       "OCD           64    34    14    28    48    54    96    95    33    20   248   \n",
       "\n",
       "            7.5   3.5   8.5   5.5   \n",
       "Anxiety      1.0   NaN   NaN   NaN  \n",
       "Depression   NaN   2.0   NaN   NaN  \n",
       "Insomnia     NaN   1.0   NaN   NaN  \n",
       "OCD          NaN   NaN   1.0   1.0  "
      ]
     },
     "execution_count": 87,
     "metadata": {},
     "output_type": "execute_result"
    }
   ],
   "source": [
    "mental_issue = ['Anxiety', 'Depression', 'Insomnia', 'OCD']\n",
    "\n",
    "mental_df = pd.DataFrame()\n",
    "\n",
    "for mental in mental_issue:\n",
    "    mental_df = pd.concat([mental_df, pd.DataFrame(data[mental].value_counts(sort=False, dropna=False)).T])\n",
    "    \n",
    "mental_df"
   ]
  },
  {
   "cell_type": "code",
   "execution_count": 88,
   "id": "fc65cbec",
   "metadata": {},
   "outputs": [
    {
     "data": {
      "text/plain": [
       "(array([nan, 'No effect', 'Improve', 'Worsen'], dtype=object), 8)"
      ]
     },
     "execution_count": 88,
     "metadata": {},
     "output_type": "execute_result"
    }
   ],
   "source": [
    "data['Music effects'].unique(), len(data[data['Music effects'].isna()])"
   ]
  },
  {
   "cell_type": "code",
   "execution_count": 90,
   "id": "3932059f",
   "metadata": {},
   "outputs": [
    {
     "data": {
      "text/plain": [
       "Improve      542\n",
       "No effect    169\n",
       "Worsen        17\n",
       "Name: Music effects, dtype: int64"
      ]
     },
     "execution_count": 90,
     "metadata": {},
     "output_type": "execute_result"
    }
   ],
   "source": [
    "data['Music effects'].value_counts()"
   ]
  },
  {
   "cell_type": "code",
   "execution_count": 91,
   "id": "e3f4c065",
   "metadata": {},
   "outputs": [
    {
     "data": {
      "text/plain": [
       "(array(['I understand.'], dtype=object), 0)"
      ]
     },
     "execution_count": 91,
     "metadata": {},
     "output_type": "execute_result"
    }
   ],
   "source": [
    "data['Permissions'].unique(), len(data[data['Permissions'].isna()])"
   ]
  },
  {
   "cell_type": "code",
   "execution_count": null,
   "id": "21b287fb",
   "metadata": {},
   "outputs": [],
   "source": []
  }
 ],
 "metadata": {
  "kernelspec": {
   "display_name": "Python 3 (ipykernel)",
   "language": "python",
   "name": "python3"
  },
  "language_info": {
   "codemirror_mode": {
    "name": "ipython",
    "version": 3
   },
   "file_extension": ".py",
   "mimetype": "text/x-python",
   "name": "python",
   "nbconvert_exporter": "python",
   "pygments_lexer": "ipython3",
   "version": "3.10.6"
  },
  "toc": {
   "base_numbering": 1,
   "nav_menu": {},
   "number_sections": true,
   "sideBar": true,
   "skip_h1_title": false,
   "title_cell": "Table of Contents",
   "title_sidebar": "Contents",
   "toc_cell": false,
   "toc_position": {},
   "toc_section_display": true,
   "toc_window_display": false
  }
 },
 "nbformat": 4,
 "nbformat_minor": 5
}
